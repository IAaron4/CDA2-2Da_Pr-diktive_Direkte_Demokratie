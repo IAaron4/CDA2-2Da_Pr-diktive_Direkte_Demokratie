{
 "cells": [
  {
   "cell_type": "markdown",
   "id": "8e5ac690-9f00-4f42-8b16-dc201eb5a24e",
   "metadata": {},
   "source": [
    "# Religion Datenanalyse - CDA2/2Da"
   ]
  },
  {
   "cell_type": "code",
   "execution_count": 55,
   "id": "b9331ac1-d66f-48ea-9d74-eb30fa7fa54c",
   "metadata": {},
   "outputs": [],
   "source": [
    "import pandas as pd\n",
    "import numpy as np\n",
    "# pip install pygal_maps_ch\n",
    "from pygal import maps"
   ]
  }
 ],
 "metadata": {
  "kernelspec": {
   "display_name": "Python 3 (ipykernel)",
   "language": "python",
   "name": "python3"
  },
  "language_info": {
   "codemirror_mode": {
    "name": "ipython",
    "version": 3
   },
   "file_extension": ".py",
   "mimetype": "text/x-python",
   "name": "python",
   "nbconvert_exporter": "python",
   "pygments_lexer": "ipython3",
   "version": "3.12.7"
  }
 },
 "nbformat": 4,
 "nbformat_minor": 5
}
